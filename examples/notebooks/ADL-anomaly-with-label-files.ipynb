{
 "cells": [
  {
   "cell_type": "code",
   "execution_count": null,
   "id": "a0b47a1a-4ed0-4942-b566-3193d439cce1",
   "metadata": {},
   "outputs": [],
   "source": [
    "############################################################################\n",
    "## Copyright 2022 Hewlett Packard Enterprise Development LP\n",
    "## Licensed under the Apache License, Version 2.0 (the \"License\"); you may\n",
    "## not use this file except in compliance with the License. You may obtain\n",
    "## a copy of the License at\n",
    "##\n",
    "##    http://www.apache.org/licenses/LICENSE-2.0\n",
    "##\n",
    "## Unless required by applicable law or agreed to in writing, software\n",
    "## distributed under the License is distributed on an \"AS IS\" BASIS, WITHOUT\n",
    "## WARRANTIES OR CONDITIONS OF ANY KIND, either express or implied. See the\n",
    "## License for the specific language governing permissions and limitations\n",
    "## under the License.\n",
    "############################################################################"
   ]
  },
  {
   "cell_type": "markdown",
   "id": "7c7fa08d-fb7c-4a8c-bc51-0fbbd9ef01db",
   "metadata": {
    "tags": []
   },
   "source": [
    "# HPE AI Observability: Anomaly and Drift detection Library (ADL)"
   ]
  },
  {
   "cell_type": "markdown",
   "id": "c56eef30-f01f-488c-8a93-09595585e456",
   "metadata": {},
   "source": [
    "## Anomaly Detection [Inference environment]"
   ]
  },
  {
   "cell_type": "markdown",
   "id": "f308c331-4b0a-4627-86cb-acf98a1ce85c",
   "metadata": {},
   "source": [
    "#### This notebook demonstrates how to use ADL API to perform anomaly detection.\n",
    "#### The data is fed into the anomaly detector using files in a folder in this standalone environment. \n",
    "#### In real world applications the stream data can be fed into the anomaly detector using data pipeline\n",
    "\n",
    "#### Dataset used in this notebook as an example: The NIH Chest X-ray dataset consists of chest x-ray images provided by the NIH Clinical Center and is available through the NIH download site: https://nihcc.app.box.com/v/ChestXray-NIHCC\n",
    "\n",
    "#### We have used COVID19 X-Ray images from IEEE8023/Covid Chest X-Ray Dataset: https://github.com/ieee8023/covid-chestxray-dataset\n",
    "\n",
    "#### The initial model as well as ADL is trained with NIH images. Covid images are introduced as anomalies."
   ]
  },
  {
   "cell_type": "markdown",
   "id": "712ec2c0-c16c-4308-8dfc-e49d88dd919c",
   "metadata": {},
   "source": [
    "## Import Anomaly Detection feature from HPE ADL"
   ]
  },
  {
   "cell_type": "code",
   "execution_count": null,
   "id": "9d7ad679-3b2e-4837-a7bf-6f1bde88933f",
   "metadata": {
    "tags": []
   },
   "outputs": [],
   "source": [
    "from hpeai.adl.features import AnomalyDetection"
   ]
  },
  {
   "cell_type": "markdown",
   "id": "c3db15a9",
   "metadata": {},
   "source": [
    "## Specify Inputs to Anomaly Detection API\n",
    "- <span style=\"color:green\">baseline: file path of the derived baseline package</span>\n",
    "- <span style=\"color:green\">source_data: folder path where all the images are kept</span>\n",
    "- <span style=\"color:green\">label_file: label file for source images </span>\n",
    "- <span style=\"color:green\">output_data: folder in which all the detection results are kept[CSV files and anomalous images].</span>\n",
    "- <span style=\"color:green\">batch_size: Image count processed per batch</span>"
   ]
  },
  {
   "cell_type": "code",
   "execution_count": null,
   "id": "fcdb9ebc",
   "metadata": {},
   "outputs": [],
   "source": [
    "baseline       = '/home/ai/adl/baselines/hpe_adl_baseline.zip'\n",
    "source_data    = '/home/ai/adl/source_data/'\n",
    "label_file     = '/home/ai/adl/labels/images.csv'\n",
    "output_data    = '/home/ai/adl/output_data'\n",
    "\n",
    "batch_size = 10"
   ]
  },
  {
   "cell_type": "markdown",
   "id": "e65411ca",
   "metadata": {},
   "source": [
    "## Initialize Anomaly Detection module"
   ]
  },
  {
   "cell_type": "code",
   "execution_count": null,
   "id": "8638553c",
   "metadata": {},
   "outputs": [],
   "source": [
    "ad = AnomalyDetection(baseline=baseline,              \n",
    "                      source_data=source_data,\n",
    "                      label_file=label_file,\n",
    "                      output_data=output_data)"
   ]
  },
  {
   "cell_type": "markdown",
   "id": "e3e5a442-2ae3-47e3-9d1a-f38d901cf550",
   "metadata": {},
   "source": [
    "## Start Anomaly Detection\n",
    "### Method will read the image files from source_data, batch them and invoke anomaly detection. \n",
    "### The detection output and anomolous images are stored in output_data\n",
    "\n",
    "### In real world, applications can pass source data using pipeline to anomaly detection module\n",
    "### The output can be sent to a pipeline on anomaly detection"
   ]
  },
  {
   "cell_type": "code",
   "execution_count": null,
   "id": "d0dea248-3cd9-414e-9f21-a334c2a41d98",
   "metadata": {},
   "outputs": [],
   "source": [
    "ad.start(batch_size=batch_size)"
   ]
  },
  {
   "cell_type": "code",
   "execution_count": null,
   "id": "75975806-90dd-4b69-aeb7-458fa2d00b1e",
   "metadata": {},
   "outputs": [],
   "source": [
    "# Note: To view detected anomalous images at runtime, use the alert callback functionality as described later in this notebook.\n",
    "# Wait till the anomaly detection task gets completed using the sample snippet below because the anomaly detection runs asynchronously: \n",
    "import time\n",
    "while(ad.get_running_task_status()== True):\n",
    "    time.sleep(1)"
   ]
  },
  {
   "cell_type": "markdown",
   "id": "8b4d24b9-6ac3-4ac4-8e97-2be0a47215b1",
   "metadata": {},
   "source": [
    "## Display detected anomalies\n",
    "#### Results are logged in anomaly_output.csv\n",
    "### Anomaly column indicates YES (detected) NO (not detected)"
   ]
  },
  {
   "cell_type": "code",
   "execution_count": null,
   "id": "5afde112-e108-4670-92fd-690591c3fbd9",
   "metadata": {},
   "outputs": [],
   "source": [
    "import pandas as pd\n",
    "import os\n",
    "pd.set_option(\"max_rows\", None)\n",
    "anomaly_output = pd.read_csv(os.path.join(output_data, 'anomalies', 'anomaly_output.csv'))\n",
    "anomaly_output"
   ]
  },
  {
   "cell_type": "markdown",
   "id": "d1b420d2-09bd-4d92-87be-ff779af797a4",
   "metadata": {},
   "source": [
    "# Display detected Anomalous images"
   ]
  },
  {
   "cell_type": "markdown",
   "id": "57f6f3e3-510a-49ca-a262-6a5e4061300b",
   "metadata": {},
   "source": [
    "## You can choose to display images and charts for anomalous images leveraging the code snippet below:"
   ]
  },
  {
   "cell_type": "code",
   "execution_count": null,
   "id": "900b0907-de82-4785-87dc-eab58c7c292d",
   "metadata": {},
   "outputs": [],
   "source": [
    "import os\n",
    "from bokeh.plotting import figure\n",
    "from PIL import Image\n",
    "import matplotlib.pyplot as plt\n",
    "import pandas as pd\n",
    "import math\n",
    "\n",
    "\n",
    "def display_images(folder_path):\n",
    "    show_images(folder_path)\n",
    "    pass\n",
    "\n",
    "\n",
    "def show_images(folder_path, image_types=['jpeg', 'jpg', 'png']):\n",
    "    fig = plt.figure(figsize=(50, 20))\n",
    "\n",
    "    for root, _, files in os.walk(folder_path):\n",
    "        file_paths = []\n",
    "        for img_type in image_types:\n",
    "            file_paths += get_images_by_type(root, files, img_type)\n",
    "\n",
    "        num_files = len(file_paths)\n",
    "        num_rows, num_cols = get_number_rows_and_columns(num_files)\n",
    "\n",
    "        for i in range(num_files):\n",
    "            sub = fig.add_subplot(num_rows, num_cols, i + 1)\n",
    "            with open(file_paths[i], 'rb') as f:\n",
    "                image = Image.open(f)\n",
    "                sub.imshow(image)\n",
    "    plt.show()\n",
    "\n",
    "\n",
    "def display_cluster_images(folder_path):\n",
    "    show_images(folder_path, image_types=['png'])\n",
    "    pass\n",
    "\n",
    "\n",
    "def get_number_rows_and_columns(num_files):\n",
    "    num_cols = int(math.sqrt(num_files))\n",
    "    num_rows = num_files // num_cols\n",
    "\n",
    "    if num_rows * num_cols < num_files:\n",
    "        num_rows += 1\n",
    "\n",
    "    return num_rows, num_cols\n",
    "\n",
    "\n",
    "def get_images_by_type(root, files, image_type='jpeg'):\n",
    "    file_paths = []\n",
    "    for file in files:\n",
    "        file_path = os.path.join(root, file)\n",
    "\n",
    "        # Get the filename only from the initial file path.\n",
    "        filename = os.path.basename(file_path)\n",
    "\n",
    "        # Use splitext() to get filename and extension separately.\n",
    "        (_, ext) = os.path.splitext(filename)\n",
    "\n",
    "        if ext == '.' + image_type:\n",
    "            file_paths.append(file_path)\n",
    "    return file_paths"
   ]
  },
  {
   "cell_type": "code",
   "execution_count": null,
   "id": "3e939163-6d64-4bd4-8388-244c4464b422",
   "metadata": {},
   "outputs": [],
   "source": [
    "%matplotlib inline\n",
    "display_images(os.path.join(output_data, 'anomalies', 'images'))"
   ]
  },
  {
   "cell_type": "markdown",
   "id": "b354b016-46d1-4d83-9bc2-177d782a0d8f",
   "metadata": {},
   "source": [
    "## The section below demonstrates APIs to get additional information for verification and debugging\n",
    "## Display Cluster plots for each batch. \n",
    "- <span style=\"color:red\">**red color indicates Anomalous Image**</span>\n",
    "- <span style=\"color:blue\">**blue color indicates Normal Image**</span> "
   ]
  },
  {
   "cell_type": "code",
   "execution_count": null,
   "id": "681fca49-3e9c-40f6-8b37-bfe3c0bcdcf9",
   "metadata": {},
   "outputs": [],
   "source": [
    "display_cluster_images(os.path.join(output_data, 'clusters'))"
   ]
  },
  {
   "cell_type": "markdown",
   "id": "5309eb8a-85aa-4195-bbf9-5f9152f2f914",
   "metadata": {},
   "source": [
    "## Optionally define a callback function to monitor results\n",
    "## For integrating anomaly detection into ML pipeline, use this function to define the callback action"
   ]
  },
  {
   "cell_type": "code",
   "execution_count": null,
   "id": "f1730a1f-c7f1-4e18-a99b-7e27f6b2c5ba",
   "metadata": {},
   "outputs": [],
   "source": [
    "# If status_log = None, Baseline derivation completed without any failure.\n",
    "def user_callback(status_log=None):\n",
    "    if status_log is None:\n",
    "        print (\"Anomaly Detection Completed\")\n",
    "    else:\n",
    "        print('USER CALLBACK: ', status_log)"
   ]
  },
  {
   "cell_type": "markdown",
   "id": "f59a7838-f7cc-4223-beda-e5b0fbbe37d7",
   "metadata": {},
   "source": [
    "## User registers a callback function"
   ]
  },
  {
   "cell_type": "code",
   "execution_count": null,
   "id": "7be2e15a-611e-43da-b3ee-c7800be8319b",
   "metadata": {},
   "outputs": [],
   "source": [
    "ad.alert(user_callback)"
   ]
  },
  {
   "cell_type": "markdown",
   "id": "0fb6a121-a6a7-42cc-bfde-136f00186722",
   "metadata": {},
   "source": [
    "## Stop Anomaly Detection"
   ]
  },
  {
   "cell_type": "markdown",
   "id": "19788fdf-2d3e-47d0-b242-8070ac3ac1c7",
   "metadata": {},
   "source": [
    "#### To stop the anomaly detection while it is in progress, User can invoke stop() function."
   ]
  },
  {
   "cell_type": "code",
   "execution_count": null,
   "id": "0f4421a2-ce44-44bb-a0c5-9b2bcce1b64c",
   "metadata": {},
   "outputs": [],
   "source": [
    "ad.stop()"
   ]
  },
  {
   "cell_type": "code",
   "execution_count": null,
   "id": "f4a9e320-5844-4095-abe0-433994d1b085",
   "metadata": {},
   "outputs": [],
   "source": []
  }
 ],
 "metadata": {
  "interpreter": {
   "hash": "b9a17f6426919adee3cbed3d39e2df6a41487377936f03f1f6db3a236cbcfdc2"
  },
  "kernelspec": {
   "display_name": "Python 3 (ipykernel)",
   "language": "python",
   "name": "python3"
  },
  "language_info": {
   "codemirror_mode": {
    "name": "ipython",
    "version": 3
   },
   "file_extension": ".py",
   "mimetype": "text/x-python",
   "name": "python",
   "nbconvert_exporter": "python",
   "pygments_lexer": "ipython3",
   "version": "3.8.12"
  }
 },
 "nbformat": 4,
 "nbformat_minor": 5
}
