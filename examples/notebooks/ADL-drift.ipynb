{
 "cells": [
  {
   "cell_type": "code",
   "execution_count": null,
   "id": "495eac57-3713-4ce3-bcd1-bade8944cf02",
   "metadata": {},
   "outputs": [],
   "source": [
    "############################################################################\n",
    "## Copyright 2022 Hewlett Packard Enterprise Development LP\n",
    "## Licensed under the Apache License, Version 2.0 (the \"License\"); you may\n",
    "## not use this file except in compliance with the License. You may obtain\n",
    "## a copy of the License at\n",
    "##\n",
    "##    http://www.apache.org/licenses/LICENSE-2.0\n",
    "##\n",
    "## Unless required by applicable law or agreed to in writing, software\n",
    "## distributed under the License is distributed on an \"AS IS\" BASIS, WITHOUT\n",
    "## WARRANTIES OR CONDITIONS OF ANY KIND, either express or implied. See the\n",
    "## License for the specific language governing permissions and limitations\n",
    "## under the License.\n",
    "############################################################################"
   ]
  },
  {
   "cell_type": "markdown",
   "id": "bedbf75d-3d7e-403e-8c1b-5a2d9d69203c",
   "metadata": {
    "tags": []
   },
   "source": [
    "# HPE AI Observability: Anomaly and Drift detection Library (ADL)"
   ]
  },
  {
   "cell_type": "markdown",
   "id": "c56eef30-f01f-488c-8a93-09595585e456",
   "metadata": {},
   "source": [
    "## Drift Detection [Inference environment]"
   ]
  },
  {
   "cell_type": "markdown",
   "id": "f308c331-4b0a-4627-86cb-acf98a1ce85c",
   "metadata": {},
   "source": [
    "### This notebook demonstrates how to use ADL API to perform drift detection.\n",
    "### The data is fed into the drift detector using a files in a folder in this standalone environment.\n",
    "### In real world applications the stream data can be fed into the drift detector using data pipeline\n",
    "\n",
    "#### Dataset used in this notebook as an example: The NIH Chest X-ray dataset consists of chest x-ray images provided by the NIH Clinical Center and is available through the NIH download site: https://nihcc.app.box.com/v/ChestXray-NIHCC\n",
    "\n",
    "#### We have used COVID19 X-Ray images from IEEE8023/Covid Chest X-Ray Dataset: https://github.com/ieee8023/covid-chestxray-dataset\n",
    "\n",
    "#### The initial model as well as ADL is trained with NIH images. Covid images are introduced to demonstrate drift"
   ]
  },
  {
   "cell_type": "markdown",
   "id": "94688153-0e7d-44f0-bfcd-aa88965c3742",
   "metadata": {},
   "source": [
    "## Import Drift Detection feature from HPE ADL"
   ]
  },
  {
   "cell_type": "code",
   "execution_count": null,
   "id": "9d7ad679-3b2e-4837-a7bf-6f1bde88933f",
   "metadata": {
    "tags": []
   },
   "outputs": [],
   "source": [
    "from hpeai.adl.features import DriftDetection"
   ]
  },
  {
   "cell_type": "markdown",
   "id": "491572fb-e205-4ed0-8391-162fb79d5cac",
   "metadata": {},
   "source": [
    "## Specify Inputs to Drift Detection API\n",
    "- <span style=\"color:green\">baseline: file path of the derived baseline package</span>\n",
    "- <span style=\"color:green\">source_data: folder path where all the images are kept</span>\n",
    "- <span style=\"color:green\">output_data: folder in which all the detection results are kept[CSV files and anomalous images].</span>\n",
    "- <span style=\"color:green\">batch_size: Image count processed per batch</span>"
   ]
  },
  {
   "cell_type": "markdown",
   "id": "a81482ab-f5fa-4e3a-b81a-1b8a784fb491",
   "metadata": {},
   "source": [
    "### You can specify data in chunks for drift detection on a daily basis as an example"
   ]
  },
  {
   "cell_type": "code",
   "execution_count": null,
   "id": "6a7951ee",
   "metadata": {},
   "outputs": [],
   "source": [
    "baseline     = '/home/ai/adl/baselines/hpe_adl_baseline.zip'\n",
    "source_data  = '/home/ai/adl/source_data/'\n",
    "output_data  = '/home/ai/adl/output_data'\n",
    "batch_size   = 50\n",
    "\n",
    "# Example: For drift detection on a daily basis across 6 days\n",
    "days_data  = [\"day1\", \"day2\", \"day3\", \"day4\", \"day5\", \"day6\"]"
   ]
  },
  {
   "cell_type": "markdown",
   "id": "b5f87b18-8f64-492e-ab1d-d39324c77853",
   "metadata": {},
   "source": [
    "## Initialize Drift Detection module"
   ]
  },
  {
   "cell_type": "code",
   "execution_count": null,
   "id": "e1507c57",
   "metadata": {},
   "outputs": [],
   "source": [
    "dd = DriftDetection(baseline=baseline, output_data=output_data)"
   ]
  },
  {
   "cell_type": "markdown",
   "id": "db4d0e69-5d9e-4e84-aa33-ea82c09c0ced",
   "metadata": {},
   "source": [
    "## Start Drift Detection\n",
    "### Loop over the days to demonstrate streaming environment and drift over a period\n",
    "### Method will read the image files from source_data, batch them and invoke drift detection\n",
    "### The detection output and drifted images are stored in output_data\n",
    "\n",
    "### In real world, applications can pass source data using pipeline to drift detection module\n",
    "### The output can be sent to a pipeline on drift detection"
   ]
  },
  {
   "cell_type": "code",
   "execution_count": null,
   "id": "0e11130f-e21d-4937-88ac-b10c91616530",
   "metadata": {},
   "outputs": [],
   "source": [
    "# Note: To view drift detection results at runtime, use the alert callback functionality as described later in this notebook.\n",
    "# Wait till the drift detection task gets completed using the sample snippet below because the drift detection runs asynchronously: \n",
    "import time\n",
    "import os\n",
    "for day in days_data:\n",
    "    source_folder = os.path.join(source_data, day)\n",
    "    dd.start(batch_size=batch_size, source_data=source_folder)\n",
    "        \n",
    "    while(dd.get_task_running_status()== True):\n",
    "        time.sleep(1)\n",
    "    time.sleep(10)"
   ]
  },
  {
   "cell_type": "markdown",
   "id": "8b4d24b9-6ac3-4ac4-8e97-2be0a47215b1",
   "metadata": {},
   "source": [
    "## Display Absolute drift\n",
    "### Absolute drift is the total drift against the baseline across batches\n",
    "### Drift detected column indicates YES (detected) NO (not detected)"
   ]
  },
  {
   "cell_type": "code",
   "execution_count": null,
   "id": "db97af78-e127-485b-b52f-dabbde0af853",
   "metadata": {},
   "outputs": [],
   "source": [
    "import pandas as pd\n",
    "absolute_drift_output = pd.read_csv(os.path.join(output_data, 'absolute_drift_results.csv'))\n",
    "absolute_drift_output"
   ]
  },
  {
   "cell_type": "markdown",
   "id": "fcc04fd4-5d4a-4821-bff4-d198dd2feee3",
   "metadata": {},
   "source": [
    "## Display Relative drift\n",
    "### Relative drift is the drift between successive batches of data"
   ]
  },
  {
   "cell_type": "code",
   "execution_count": null,
   "id": "7150a308-f045-4ddb-86c5-88b38d890dcb",
   "metadata": {},
   "outputs": [],
   "source": [
    "relative_drift_output = pd.read_csv(os.path.join(output_data, 'relative_drift_results.csv'))\n",
    "relative_drift_output"
   ]
  },
  {
   "cell_type": "markdown",
   "id": "d1b420d2-09bd-4d92-87be-ff779af797a4",
   "metadata": {},
   "source": [
    "## Display Drifted images"
   ]
  },
  {
   "cell_type": "markdown",
   "id": "3174bc5e-751e-422a-85d3-603155a3983c",
   "metadata": {},
   "source": [
    "## You can choose to display images and charts for anomalous images leveraging the code snippet below:"
   ]
  },
  {
   "cell_type": "code",
   "execution_count": null,
   "id": "33bb597f-fc50-4dfd-97bf-c6ecdea32943",
   "metadata": {},
   "outputs": [],
   "source": [
    "import os\n",
    "from bokeh.plotting import figure, show\n",
    "from bokeh.models import ColumnDataSource, Range1d\n",
    "from bokeh.io import output_notebook\n",
    "from PIL import Image\n",
    "import matplotlib.pyplot as plt\n",
    "import pandas as pd\n",
    "import math\n",
    "\n",
    "\n",
    "def draw_drift_chart(data_repr_file_path) -> None:\n",
    "    df = pd.read_csv(data_repr_file_path)\n",
    "    x_range = range(0, len(df[\"Baseline\"].to_list()))\n",
    "    TOOLTIPS = [(\"Time:\", \"@z\"), (\"Loss:\", \"@y\")]\n",
    "    tools = [\"pan\", \"box_zoom\", \"reset\", \"hover\", \"save\"]\n",
    "    p = figure(title=\"Data Representation - Images\", x_axis_label='Images Index',\n",
    "               y_axis_label='Representation value', tooltips=TOOLTIPS, tools=tools)\n",
    "    source1 = ColumnDataSource(data=dict(y=df[\"Baseline\"], z=x_range))\n",
    "    source2 = ColumnDataSource(data=dict(y=df[\"Batch\"], z=x_range))\n",
    "    p.xaxis.major_label_orientation = 1\n",
    "    p.y_range = Range1d(0, 1)\n",
    "    p.line(x=\"z\", y=\"y\", color=\"red\", line_width=2, source=source1)\n",
    "    p.scatter(x=\"z\", y=\"y\", color=\"green\", line_width=2, source=source2)\n",
    "    output_notebook()\n",
    "    show(p)\n",
    "\n",
    "\n",
    "def display_images(folder_path):\n",
    "    show_images(folder_path)\n",
    "    pass\n",
    "\n",
    "\n",
    "def show_images(folder_path, image_types=['jpeg', 'jpg', 'png']):\n",
    "    fig = plt.figure(figsize=(50, 20))\n",
    "\n",
    "    for root, _, files in os.walk(folder_path):\n",
    "        file_paths = []\n",
    "        for img_type in image_types:\n",
    "            file_paths += get_images_by_type(root, files, img_type)\n",
    "\n",
    "        num_files = len(file_paths)\n",
    "        num_rows, num_cols = get_number_rows_and_columns(num_files)\n",
    "\n",
    "        for i in range(num_files):\n",
    "            sub = fig.add_subplot(num_rows, num_cols, i + 1)\n",
    "            with open(file_paths[i], 'rb') as f:\n",
    "                image = Image.open(f)\n",
    "                sub.imshow(image)\n",
    "    plt.show()\n",
    "\n",
    "\n",
    "def display_cluster_images(folder_path):\n",
    "    show_images(folder_path, image_types=['png'])\n",
    "    pass\n",
    "\n",
    "\n",
    "def get_number_rows_and_columns(num_files):\n",
    "    num_cols = int(math.sqrt(num_files))\n",
    "    num_rows = num_files // num_cols\n",
    "\n",
    "    if num_rows * num_cols < num_files:\n",
    "        num_rows += 1\n",
    "\n",
    "    return num_rows, num_cols\n",
    "\n",
    "\n",
    "def get_images_by_type(root, files, image_type='jpeg'):\n",
    "    file_paths = []\n",
    "    for file in files:\n",
    "        file_path = os.path.join(root, file)\n",
    "\n",
    "        # Get the filename only from the initial file path.\n",
    "        filename = os.path.basename(file_path)\n",
    "\n",
    "        # Use splitext() to get filename and extension separately.\n",
    "        (_, ext) = os.path.splitext(filename)\n",
    "\n",
    "        if ext == '.' + image_type:\n",
    "            file_paths.append(file_path)\n",
    "    return file_paths"
   ]
  },
  {
   "cell_type": "code",
   "execution_count": null,
   "id": "5114648f-7df2-4da9-8277-7d19b59ba13e",
   "metadata": {},
   "outputs": [],
   "source": [
    "%matplotlib inline\n",
    "display_images(os.path.join(output_data, 'anomalies', 'images'))"
   ]
  },
  {
   "cell_type": "markdown",
   "id": "77df9ce5-27f9-47c8-99dd-16548333ebe7",
   "metadata": {},
   "source": [
    "## User can optionally define a callback function as below to track progress"
   ]
  },
  {
   "cell_type": "code",
   "execution_count": null,
   "id": "f1730a1f-c7f1-4e18-a99b-7e27f6b2c5ba",
   "metadata": {},
   "outputs": [],
   "source": [
    "# If status_log = None, Baseline derivation completed without any failure.\n",
    "def user_callback(status_log=None):\n",
    "    if status_log is None:\n",
    "        print (\"Drift Detection Completed\")\n",
    "    else:\n",
    "        print(status_log)"
   ]
  },
  {
   "cell_type": "markdown",
   "id": "974c7cf7-4a2b-479d-b173-bccbaf151539",
   "metadata": {},
   "source": [
    "## User registers a callback function"
   ]
  },
  {
   "cell_type": "code",
   "execution_count": null,
   "id": "69dd1298-1421-42c8-a79c-56eb1e25fda0",
   "metadata": {},
   "outputs": [],
   "source": [
    "dd.alert(user_callback)"
   ]
  },
  {
   "cell_type": "markdown",
   "id": "5addd069-0d86-461c-a4da-2eeab02e8521",
   "metadata": {},
   "source": [
    "## Display Absolute drift chart on a per batch basis."
   ]
  },
  {
   "cell_type": "code",
   "execution_count": null,
   "id": "74aa227f-e0de-48e3-9135-0b53e08529a1",
   "metadata": {},
   "outputs": [],
   "source": [
    "draw_drift_chart(\"BaselinevsBatch.csv\")"
   ]
  },
  {
   "cell_type": "markdown",
   "id": "6ab212fc-4778-41b0-9f52-e20a5c83a576",
   "metadata": {},
   "source": [
    "## Stop Drift Detection"
   ]
  },
  {
   "cell_type": "markdown",
   "id": "17f2aa51-3046-4090-ae14-8502addf8583",
   "metadata": {},
   "source": [
    "#### To stop the drift detection while it is in progress, User can invoke stop() function."
   ]
  },
  {
   "cell_type": "code",
   "execution_count": null,
   "id": "0aaa3f88-f704-4524-8104-4b29b718b827",
   "metadata": {},
   "outputs": [],
   "source": [
    "dd.stop()"
   ]
  },
  {
   "cell_type": "code",
   "execution_count": null,
   "id": "b914d23b-fb07-4a7b-b2aa-75cf22043eee",
   "metadata": {},
   "outputs": [],
   "source": []
  }
 ],
 "metadata": {
  "interpreter": {
   "hash": "b9a17f6426919adee3cbed3d39e2df6a41487377936f03f1f6db3a236cbcfdc2"
  },
  "kernelspec": {
   "display_name": "Python 3 (ipykernel)",
   "language": "python",
   "name": "python3"
  },
  "language_info": {
   "codemirror_mode": {
    "name": "ipython",
    "version": 3
   },
   "file_extension": ".py",
   "mimetype": "text/x-python",
   "name": "python",
   "nbconvert_exporter": "python",
   "pygments_lexer": "ipython3",
   "version": "3.8.12"
  }
 },
 "nbformat": 4,
 "nbformat_minor": 5
}
