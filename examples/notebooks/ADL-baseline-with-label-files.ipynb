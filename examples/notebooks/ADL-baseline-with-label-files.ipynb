{
 "cells": [
  {
   "cell_type": "code",
   "execution_count": null,
   "id": "08fa7f45-a696-4fc1-9fb1-0d4c1117926a",
   "metadata": {},
   "outputs": [],
   "source": [
    "############################################################################\n",
    "## Copyright 2022 Hewlett Packard Enterprise Development LP\n",
    "## Licensed under the Apache License, Version 2.0 (the \"License\"); you may\n",
    "## not use this file except in compliance with the License. You may obtain\n",
    "## a copy of the License at\n",
    "##\n",
    "##    http://www.apache.org/licenses/LICENSE-2.0\n",
    "##\n",
    "## Unless required by applicable law or agreed to in writing, software\n",
    "## distributed under the License is distributed on an \"AS IS\" BASIS, WITHOUT\n",
    "## WARRANTIES OR CONDITIONS OF ANY KIND, either express or implied. See the\n",
    "## License for the specific language governing permissions and limitations\n",
    "## under the License.\n",
    "############################################################################"
   ]
  },
  {
   "cell_type": "markdown",
   "id": "77932aa7-e818-4a3d-ae4d-50e92824eda4",
   "metadata": {
    "tags": []
   },
   "source": [
    "# HPE AI Observability: Anomaly and Drift detection Library (ADL)"
   ]
  },
  {
   "cell_type": "markdown",
   "id": "c56eef30-f01f-488c-8a93-09595585e456",
   "metadata": {},
   "source": [
    "## Baseline Derivation [Training environment]"
   ]
  },
  {
   "cell_type": "markdown",
   "id": "323b62e5-58ac-4a14-b2f5-ccf829787da8",
   "metadata": {},
   "source": [
    "#### This notebook contains the user application to  generate a baseline package comprising reference data and a trained model (currently an autoencoder) using ADL Python API. The user supplies the following information:\n",
    "- Path of the source data images\n",
    "- Path for storing baseline\n",
    "\n",
    "#### Dataset used in this notebook as an example: The NIH Chest X-ray dataset consists of chest x-ray images provided by the NIH Clinical Center and is available through the NIH download site: https://nihcc.app.box.com/v/ChestXray-NIHCC"
   ]
  },
  {
   "cell_type": "markdown",
   "id": "0d298c28-8721-48fa-ac35-7543ef31dd50",
   "metadata": {},
   "source": [
    "## Import Baseline Derivation feature from HPE ADL"
   ]
  },
  {
   "cell_type": "code",
   "execution_count": null,
   "id": "9d7ad679-3b2e-4837-a7bf-6f1bde88933f",
   "metadata": {
    "tags": []
   },
   "outputs": [],
   "source": [
    "from hpeai.adl.features import BaselineDerivation"
   ]
  },
  {
   "cell_type": "markdown",
   "id": "8ac59a53",
   "metadata": {},
   "source": [
    "## Provide Inputs to Baseline Derivation API"
   ]
  },
  {
   "cell_type": "code",
   "execution_count": null,
   "id": "aa45c5b3",
   "metadata": {},
   "outputs": [],
   "source": [
    "# Folder containing source images.\n",
    "source_data = \"/home/ai/adl/source_data/\"\n",
    "\n",
    "# Output folder to store the baseline.\n",
    "output_data = \"/home/ai/adl/baselines_output\"\n",
    "\n",
    "# Label file for source images.\n",
    "label_file = \"/home/ai/adl/source_data/labels/training.csv\""
   ]
  },
  {
   "cell_type": "markdown",
   "id": "67b1caf6",
   "metadata": {},
   "source": [
    "### Initialize Baseline Derivation Model\n",
    "- uses the default auto encoder from ADL"
   ]
  },
  {
   "cell_type": "code",
   "execution_count": null,
   "id": "3ca9b9f1",
   "metadata": {},
   "outputs": [],
   "source": [
    "bd = BaselineDerivation(source_data=source_data, \n",
    "                        output_data=output_data, \n",
    "                        label_file=label_file)   "
   ]
  },
  {
   "cell_type": "markdown",
   "id": "48bb468e-6ce5-4d77-a5e5-631d1a5ba880",
   "metadata": {},
   "source": [
    "### Start Baseline derivation\n",
    "#### Train the Auto Encoder\n",
    "##### Specify epoch count and batch size."
   ]
  },
  {
   "cell_type": "code",
   "execution_count": null,
   "id": "4b02ff42",
   "metadata": {},
   "outputs": [],
   "source": [
    "bd.start(epochs=15, batch_size=200)"
   ]
  },
  {
   "cell_type": "code",
   "execution_count": null,
   "id": "f4c33630-8b9c-4e4a-a31e-62cb6fdd1069",
   "metadata": {},
   "outputs": [],
   "source": [
    "# Wait till the baseline derivation task gets completed using the sample snippet below because the baseline derivation runs asynchronously:\n",
    "import time\n",
    "while bd.get_running_task_status() == True:\n",
    "    time.sleep(1)"
   ]
  },
  {
   "cell_type": "markdown",
   "id": "0ba0c11f-d4fd-4a12-9764-4bddcb8dbd12",
   "metadata": {},
   "source": [
    "### Save derived baseline package [consists of trained AutoEncoder model and baseline reference data]\n",
    "### Run the save API only after completing training"
   ]
  },
  {
   "cell_type": "code",
   "execution_count": null,
   "id": "b5afd1f5-3a6d-4107-b82f-6da6f5f968d5",
   "metadata": {},
   "outputs": [],
   "source": [
    "bd.save('hpe_adl_baseline.zip')"
   ]
  },
  {
   "cell_type": "markdown",
   "id": "afb67aa2-cf1c-4bb5-888a-0b9e9d833b1a",
   "metadata": {},
   "source": [
    "# The section below demonstrates APIs to get additional information for verification and debugging\n",
    "# APIs to verify the AE accuracy, callback functions to monitor baseline derivation progress"
   ]
  },
  {
   "cell_type": "markdown",
   "id": "c4956d48-70b1-4fd2-b083-8eaa56fe711f",
   "metadata": {
    "tags": []
   },
   "source": [
    "#### Verify the Autoencoder training stabilization - graph of training and validation loss"
   ]
  },
  {
   "cell_type": "code",
   "execution_count": null,
   "id": "afcf8ce4-49b3-4322-b193-03882dc9ebd7",
   "metadata": {},
   "outputs": [],
   "source": [
    "from IPython.display import Image\n",
    "!unzip -o /home/ai/adl/baselines_output/hpe_adl_baseline.zip -d /home/ai/adl/baselines_output/hpe_adl_baseline\n",
    "Image(filename='/home/ai/adl/baselines_output/hpe_adl_baseline/baseline-TrainLossvsValidationloss.png')"
   ]
  },
  {
   "cell_type": "markdown",
   "id": "f2b1b39d-ac3a-4e82-9612-2297bd01bd7a",
   "metadata": {},
   "source": [
    "## Optionally define a callback function to monitor results\n",
    "## For integrating baseline derivation into ML pipeline, use this function to define the callback action"
   ]
  },
  {
   "cell_type": "code",
   "execution_count": null,
   "id": "7fdd4459",
   "metadata": {},
   "outputs": [],
   "source": [
    "# If status_log = None, Baseline derivation completed without any failure.\n",
    "def user_callback(status_log=None):\n",
    "    if status_log is None:\n",
    "        print (\"Baseline Derivation Completed\")\n",
    "    else:\n",
    "        print(status_log)"
   ]
  },
  {
   "cell_type": "markdown",
   "id": "761032e2-d063-4dd9-9b36-23262a2c2265",
   "metadata": {},
   "source": [
    "## Register the callback function"
   ]
  },
  {
   "cell_type": "code",
   "execution_count": null,
   "id": "7be2e15a-611e-43da-b3ee-c7800be8319b",
   "metadata": {},
   "outputs": [],
   "source": [
    "bd.alert(user_callback)"
   ]
  },
  {
   "cell_type": "markdown",
   "id": "0f087bf1-ffef-47d0-b349-5472b66f2bf9",
   "metadata": {},
   "source": [
    "## Stop Baseline Derivation"
   ]
  },
  {
   "cell_type": "markdown",
   "id": "591d0071-4392-461d-b915-17a389638c80",
   "metadata": {},
   "source": [
    "#### To stop the baseline derivation while it is in progress, User can invoke stop() function."
   ]
  },
  {
   "cell_type": "code",
   "execution_count": null,
   "id": "7f872c38-1577-4219-8e7f-424529ea195c",
   "metadata": {},
   "outputs": [],
   "source": [
    "bd.stop()"
   ]
  },
  {
   "cell_type": "code",
   "execution_count": null,
   "id": "ad142e54-d8a0-4715-9089-44b88fba76bf",
   "metadata": {},
   "outputs": [],
   "source": []
  }
 ],
 "metadata": {
  "interpreter": {
   "hash": "b9a17f6426919adee3cbed3d39e2df6a41487377936f03f1f6db3a236cbcfdc2"
  },
  "kernelspec": {
   "display_name": "Python 3 (ipykernel)",
   "language": "python",
   "name": "python3"
  },
  "language_info": {
   "codemirror_mode": {
    "name": "ipython",
    "version": 3
   },
   "file_extension": ".py",
   "mimetype": "text/x-python",
   "name": "python",
   "nbconvert_exporter": "python",
   "pygments_lexer": "ipython3",
   "version": "3.8.12"
  }
 },
 "nbformat": 4,
 "nbformat_minor": 5
}
